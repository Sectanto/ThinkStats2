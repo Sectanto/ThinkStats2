{
 "cells": [
  {
   "cell_type": "markdown",
   "metadata": {},
   "source": [
    "# Some code from chapters 1-2"
   ]
  },
  {
   "cell_type": "code",
   "execution_count": 4,
   "metadata": {},
   "outputs": [],
   "source": [
    "import numpy as np\n",
    "import pandas as pd\n",
    "import thinkstats2\n",
    "import thinkplot\n",
    "\n",
    "import seaborn as sns\n",
    "import matplotlib.pyplot as mth\n",
    "import statsmodels.formula.api as smf"
   ]
  },
  {
   "cell_type": "code",
   "execution_count": 5,
   "metadata": {},
   "outputs": [
    {
     "data": {
      "text/html": [
       "<div>\n",
       "<style scoped>\n",
       "    .dataframe tbody tr th:only-of-type {\n",
       "        vertical-align: middle;\n",
       "    }\n",
       "\n",
       "    .dataframe tbody tr th {\n",
       "        vertical-align: top;\n",
       "    }\n",
       "\n",
       "    .dataframe thead th {\n",
       "        text-align: right;\n",
       "    }\n",
       "</style>\n",
       "<table border=\"1\" class=\"dataframe\">\n",
       "  <thead>\n",
       "    <tr style=\"text-align: right;\">\n",
       "      <th></th>\n",
       "      <th>video_id</th>\n",
       "      <th>trending_date</th>\n",
       "      <th>title</th>\n",
       "      <th>channel_title</th>\n",
       "      <th>category_id</th>\n",
       "      <th>publish_time</th>\n",
       "      <th>tags</th>\n",
       "      <th>views</th>\n",
       "      <th>likes</th>\n",
       "      <th>dislikes</th>\n",
       "      <th>comment_count</th>\n",
       "      <th>thumbnail_link</th>\n",
       "      <th>comments_disabled</th>\n",
       "      <th>ratings_disabled</th>\n",
       "      <th>video_error_or_removed</th>\n",
       "      <th>description</th>\n",
       "    </tr>\n",
       "  </thead>\n",
       "  <tbody>\n",
       "    <tr>\n",
       "      <th>0</th>\n",
       "      <td>1ZAPwfrtAFY</td>\n",
       "      <td>17.13.11</td>\n",
       "      <td>The Trump Presidency: Last Week Tonight with J...</td>\n",
       "      <td>LastWeekTonight</td>\n",
       "      <td>24</td>\n",
       "      <td>2017-11-13T07:30:00.000Z</td>\n",
       "      <td>last week tonight trump presidency|\"last week ...</td>\n",
       "      <td>993345</td>\n",
       "      <td>65551</td>\n",
       "      <td>3544</td>\n",
       "      <td>8128</td>\n",
       "      <td>https://i.ytimg.com/vi/1ZAPwfrtAFY/default.jpg</td>\n",
       "      <td>False</td>\n",
       "      <td>False</td>\n",
       "      <td>False</td>\n",
       "      <td>One year after the presidential election, John...</td>\n",
       "    </tr>\n",
       "    <tr>\n",
       "      <th>1</th>\n",
       "      <td>5qpjK5DgCt4</td>\n",
       "      <td>17.13.11</td>\n",
       "      <td>Racist Superman | Rudy Mancuso, King Bach &amp; Le...</td>\n",
       "      <td>Rudy Mancuso</td>\n",
       "      <td>23</td>\n",
       "      <td>2017-11-12T19:05:24.000Z</td>\n",
       "      <td>racist superman|\"rudy\"|\"mancuso\"|\"king\"|\"bach\"...</td>\n",
       "      <td>2568721</td>\n",
       "      <td>132724</td>\n",
       "      <td>4495</td>\n",
       "      <td>7494</td>\n",
       "      <td>https://i.ytimg.com/vi/5qpjK5DgCt4/default.jpg</td>\n",
       "      <td>False</td>\n",
       "      <td>False</td>\n",
       "      <td>False</td>\n",
       "      <td>WATCH MY PREVIOUS VIDEO ▶ \\n\\nSUBSCRIBE ► http...</td>\n",
       "    </tr>\n",
       "    <tr>\n",
       "      <th>2</th>\n",
       "      <td>puqaWrEC7tY</td>\n",
       "      <td>17.13.11</td>\n",
       "      <td>Nickleback Lyrics: Real or Fake?</td>\n",
       "      <td>Good Mythical Morning</td>\n",
       "      <td>24</td>\n",
       "      <td>2017-11-13T11:00:04.000Z</td>\n",
       "      <td>rhett and link|\"gmm\"|\"good mythical morning\"|\"...</td>\n",
       "      <td>118585</td>\n",
       "      <td>6183</td>\n",
       "      <td>361</td>\n",
       "      <td>1374</td>\n",
       "      <td>https://i.ytimg.com/vi/puqaWrEC7tY/default.jpg</td>\n",
       "      <td>False</td>\n",
       "      <td>False</td>\n",
       "      <td>False</td>\n",
       "      <td>Today we find out if Link is a Nickelback amat...</td>\n",
       "    </tr>\n",
       "    <tr>\n",
       "      <th>3</th>\n",
       "      <td>d380meD0W0M</td>\n",
       "      <td>17.13.11</td>\n",
       "      <td>I Dare You: GOING BALD!?</td>\n",
       "      <td>nigahiga</td>\n",
       "      <td>24</td>\n",
       "      <td>2017-11-12T18:01:41.000Z</td>\n",
       "      <td>ryan|\"higa\"|\"higatv\"|\"nigahiga\"|\"i dare you\"|\"...</td>\n",
       "      <td>1867990</td>\n",
       "      <td>123933</td>\n",
       "      <td>1836</td>\n",
       "      <td>16635</td>\n",
       "      <td>https://i.ytimg.com/vi/d380meD0W0M/default.jpg</td>\n",
       "      <td>False</td>\n",
       "      <td>False</td>\n",
       "      <td>False</td>\n",
       "      <td>I know it's been a while since we did this sho...</td>\n",
       "    </tr>\n",
       "    <tr>\n",
       "      <th>4</th>\n",
       "      <td>nc99ccSXST0</td>\n",
       "      <td>17.13.11</td>\n",
       "      <td>5 Ice Cream Gadgets put to the Test</td>\n",
       "      <td>CrazyRussianHacker</td>\n",
       "      <td>28</td>\n",
       "      <td>2017-11-12T21:50:37.000Z</td>\n",
       "      <td>5 Ice Cream Gadgets|\"Ice Cream\"|\"Cream Sandwic...</td>\n",
       "      <td>669608</td>\n",
       "      <td>21357</td>\n",
       "      <td>591</td>\n",
       "      <td>3050</td>\n",
       "      <td>https://i.ytimg.com/vi/nc99ccSXST0/default.jpg</td>\n",
       "      <td>False</td>\n",
       "      <td>False</td>\n",
       "      <td>False</td>\n",
       "      <td>Ice Cream Pint Combination Lock - http://amzn....</td>\n",
       "    </tr>\n",
       "  </tbody>\n",
       "</table>\n",
       "</div>"
      ],
      "text/plain": [
       "      video_id trending_date  \\\n",
       "0  1ZAPwfrtAFY      17.13.11   \n",
       "1  5qpjK5DgCt4      17.13.11   \n",
       "2  puqaWrEC7tY      17.13.11   \n",
       "3  d380meD0W0M      17.13.11   \n",
       "4  nc99ccSXST0      17.13.11   \n",
       "\n",
       "                                               title          channel_title  \\\n",
       "0  The Trump Presidency: Last Week Tonight with J...        LastWeekTonight   \n",
       "1  Racist Superman | Rudy Mancuso, King Bach & Le...           Rudy Mancuso   \n",
       "2                   Nickleback Lyrics: Real or Fake?  Good Mythical Morning   \n",
       "3                           I Dare You: GOING BALD!?               nigahiga   \n",
       "4                5 Ice Cream Gadgets put to the Test     CrazyRussianHacker   \n",
       "\n",
       "   category_id              publish_time  \\\n",
       "0           24  2017-11-13T07:30:00.000Z   \n",
       "1           23  2017-11-12T19:05:24.000Z   \n",
       "2           24  2017-11-13T11:00:04.000Z   \n",
       "3           24  2017-11-12T18:01:41.000Z   \n",
       "4           28  2017-11-12T21:50:37.000Z   \n",
       "\n",
       "                                                tags    views   likes  \\\n",
       "0  last week tonight trump presidency|\"last week ...   993345   65551   \n",
       "1  racist superman|\"rudy\"|\"mancuso\"|\"king\"|\"bach\"...  2568721  132724   \n",
       "2  rhett and link|\"gmm\"|\"good mythical morning\"|\"...   118585    6183   \n",
       "3  ryan|\"higa\"|\"higatv\"|\"nigahiga\"|\"i dare you\"|\"...  1867990  123933   \n",
       "4  5 Ice Cream Gadgets|\"Ice Cream\"|\"Cream Sandwic...   669608   21357   \n",
       "\n",
       "   dislikes  comment_count                                  thumbnail_link  \\\n",
       "0      3544           8128  https://i.ytimg.com/vi/1ZAPwfrtAFY/default.jpg   \n",
       "1      4495           7494  https://i.ytimg.com/vi/5qpjK5DgCt4/default.jpg   \n",
       "2       361           1374  https://i.ytimg.com/vi/puqaWrEC7tY/default.jpg   \n",
       "3      1836          16635  https://i.ytimg.com/vi/d380meD0W0M/default.jpg   \n",
       "4       591           3050  https://i.ytimg.com/vi/nc99ccSXST0/default.jpg   \n",
       "\n",
       "   comments_disabled  ratings_disabled  video_error_or_removed  \\\n",
       "0              False             False                   False   \n",
       "1              False             False                   False   \n",
       "2              False             False                   False   \n",
       "3              False             False                   False   \n",
       "4              False             False                   False   \n",
       "\n",
       "                                         description  \n",
       "0  One year after the presidential election, John...  \n",
       "1  WATCH MY PREVIOUS VIDEO ▶ \\n\\nSUBSCRIBE ► http...  \n",
       "2  Today we find out if Link is a Nickelback amat...  \n",
       "3  I know it's been a while since we did this sho...  \n",
       "4  Ice Cream Pint Combination Lock - http://amzn....  "
      ]
     },
     "execution_count": 5,
     "metadata": {},
     "output_type": "execute_result"
    }
   ],
   "source": [
    "youtubeUS = pd.read_csv('USvideos.csv')\n",
    "youtubeUS.head()"
   ]
  },
  {
   "cell_type": "code",
   "execution_count": 6,
   "metadata": {},
   "outputs": [
    {
     "data": {
      "text/plain": [
       "False    200\n",
       "Name: description, dtype: int64"
      ]
     },
     "execution_count": 6,
     "metadata": {},
     "output_type": "execute_result"
    }
   ],
   "source": [
    "youtubeUS['description'] = youtubeUS['description'].fillna('')\n",
    "youtubeUS.description.isna().value_counts()\n"
   ]
  },
  {
   "cell_type": "code",
   "execution_count": 7,
   "metadata": {},
   "outputs": [],
   "source": [
    "youtubeUS['category_name'] = np.nan\n",
    "\n",
    "youtubeUS.loc[(youtubeUS[\"category_id\"] == 1),\"category_name\"] = 'Film and Animation'\n",
    "youtubeUS.loc[(youtubeUS[\"category_id\"] == 2),\"category_name\"] = 'Cars and Vehicles'\n",
    "youtubeUS.loc[(youtubeUS[\"category_id\"] == 10),\"category_name\"] = 'Music'\n",
    "youtubeUS.loc[(youtubeUS[\"category_id\"] == 15),\"category_name\"] = 'Pets and Animals'\n",
    "youtubeUS.loc[(youtubeUS[\"category_id\"] == 17),\"category_name\"] = 'Sport'\n",
    "youtubeUS.loc[(youtubeUS[\"category_id\"] == 19),\"category_name\"] = 'Travel and Events'\n",
    "youtubeUS.loc[(youtubeUS[\"category_id\"] == 20),\"category_name\"] = 'Gaming'\n",
    "youtubeUS.loc[(youtubeUS[\"category_id\"] == 22),\"category_name\"] = 'People and Blogs'\n",
    "youtubeUS.loc[(youtubeUS[\"category_id\"] == 23),\"category_name\"] = 'Comedy'\n",
    "youtubeUS.loc[(youtubeUS[\"category_id\"] == 24),\"category_name\"] = 'Entertainment'\n",
    "youtubeUS.loc[(youtubeUS[\"category_id\"] == 25),\"category_name\"] = 'News and Politics'\n",
    "youtubeUS.loc[(youtubeUS[\"category_id\"] == 26),\"category_name\"] = 'How to and Style'\n",
    "youtubeUS.loc[(youtubeUS[\"category_id\"] == 27),\"category_name\"] = 'Education'\n",
    "youtubeUS.loc[(youtubeUS[\"category_id\"] == 28),\"category_name\"] = 'Science and Technology'\n",
    "youtubeUS.loc[(youtubeUS[\"category_id\"] == 29),\"category_name\"] = 'Non Profits and Activism'\n",
    "youtubeUS.loc[(youtubeUS[\"category_id\"] == 43),\"category_name\"] = 'Reports and Reviews'\n"
   ]
  },
  {
   "cell_type": "code",
   "execution_count": 8,
   "metadata": {},
   "outputs": [
    {
     "data": {
      "text/plain": [
       "0     2017-11-13 07:30:00\n",
       "1     2017-11-12 19:05:24\n",
       "2     2017-11-13 11:00:04\n",
       "3     2017-11-12 18:01:41\n",
       "4     2017-11-12 21:50:37\n",
       "5     2017-11-12 05:37:17\n",
       "6     2017-11-13 00:51:15\n",
       "7     2017-11-12 00:01:11\n",
       "8     2017-11-12 22:00:01\n",
       "9     2017-11-12 14:00:00\n",
       "10    2017-11-12 17:00:05\n",
       "11    2017-11-13 03:00:00\n",
       "12    2017-11-12 16:46:33\n",
       "13    2017-11-13 13:45:16\n",
       "14    2017-11-10 17:00:03\n",
       "15    2017-11-12 16:00:01\n",
       "16    2017-11-12 18:00:03\n",
       "17    2017-11-10 18:23:05\n",
       "18    2017-11-11 19:03:43\n",
       "19    2017-04-21 06:47:32\n",
       "20    2017-11-10 23:05:25\n",
       "21    2017-11-11 16:00:01\n",
       "22    2017-11-11 15:00:03\n",
       "23    2017-11-10 15:00:00\n",
       "24    2017-11-11 15:00:00\n",
       "25    2017-11-12 00:45:54\n",
       "26    2017-11-11 18:08:04\n",
       "27    2017-11-10 19:06:23\n",
       "28    2017-11-12 05:55:42\n",
       "29    2011-05-29 17:03:12\n",
       "              ...        \n",
       "170   2017-11-08 15:00:27\n",
       "171   2017-11-08 21:00:01\n",
       "172   2017-11-08 16:01:41\n",
       "173   2017-11-07 16:59:54\n",
       "174   2017-11-09 18:00:33\n",
       "175   2017-11-07 18:15:45\n",
       "176   2017-11-10 14:57:32\n",
       "177   2017-11-09 00:09:31\n",
       "178   2017-11-09 01:27:59\n",
       "179   2016-11-18 06:43:42\n",
       "180   2017-11-09 13:40:13\n",
       "181   2017-11-09 00:38:09\n",
       "182   2017-11-08 17:36:18\n",
       "183   2017-11-08 17:03:38\n",
       "184   2017-11-09 13:20:29\n",
       "185   2017-11-07 16:03:12\n",
       "186   2017-11-07 10:05:18\n",
       "187   2017-11-07 17:00:32\n",
       "188   2017-11-08 22:56:25\n",
       "189   2017-11-07 02:38:17\n",
       "190   2017-11-06 23:10:00\n",
       "191   2017-11-06 09:53:33\n",
       "192   2017-11-09 00:59:44\n",
       "193   2017-11-08 18:56:43\n",
       "194   2017-11-07 16:04:36\n",
       "195   2017-11-08 08:00:00\n",
       "196   2017-11-07 01:06:11\n",
       "197   2017-11-07 23:56:55\n",
       "198   2017-11-06 16:25:11\n",
       "199   2017-11-08 11:35:13\n",
       "Name: publish_time, Length: 200, dtype: datetime64[ns]"
      ]
     },
     "execution_count": 8,
     "metadata": {},
     "output_type": "execute_result"
    }
   ],
   "source": [
    "youtubeUS['publish_time'] = pd.to_datetime(youtubeUS['publish_time'], format='%Y-%m-%dT%H:%M:%S.%fZ')\n",
    "youtubeUS['publish_time']"
   ]
  },
  {
   "cell_type": "code",
   "execution_count": 9,
   "metadata": {},
   "outputs": [],
   "source": [
    "youtubeUS['likes_rate'] = youtubeUS['likes'] / youtubeUS['views'] * 100\n",
    "youtubeUS['dislikes_rate'] = youtubeUS['dislikes'] / youtubeUS['views'] * 100\n",
    "youtubeUS['comment_count_rate'] = youtubeUS['comment_count'] / youtubeUS['views'] * 100"
   ]
  },
  {
   "cell_type": "code",
   "execution_count": 10,
   "metadata": {},
   "outputs": [],
   "source": [
    "youtubeUS['months'] = youtubeUS['publish_time'].dt.month"
   ]
  },
  {
   "cell_type": "code",
   "execution_count": 11,
   "metadata": {},
   "outputs": [],
   "source": [
    "youtubeUS['likes_log'] = np.log(youtubeUS['likes']+1)\n",
    "youtubeUS['dislikes_log'] = np.log(youtubeUS['dislikes']+1)\n",
    "youtubeUS['comments_log'] = np.log(youtubeUS['comment_count']+1)\n",
    "youtubeUS['views_log'] = np.log(youtubeUS['views']+1)\n"
   ]
  },
  {
   "cell_type": "code",
   "execution_count": 12,
   "metadata": {
    "scrolled": true
   },
   "outputs": [
    {
     "data": {
      "text/html": [
       "<div>\n",
       "<style scoped>\n",
       "    .dataframe tbody tr th:only-of-type {\n",
       "        vertical-align: middle;\n",
       "    }\n",
       "\n",
       "    .dataframe tbody tr th {\n",
       "        vertical-align: top;\n",
       "    }\n",
       "\n",
       "    .dataframe thead th {\n",
       "        text-align: right;\n",
       "    }\n",
       "</style>\n",
       "<table border=\"1\" class=\"dataframe\">\n",
       "  <thead>\n",
       "    <tr style=\"text-align: right;\">\n",
       "      <th></th>\n",
       "      <th>video_id</th>\n",
       "      <th>trending_date</th>\n",
       "      <th>title</th>\n",
       "      <th>channel_title</th>\n",
       "      <th>category_id</th>\n",
       "      <th>publish_time</th>\n",
       "      <th>tags</th>\n",
       "      <th>views</th>\n",
       "      <th>likes</th>\n",
       "      <th>dislikes</th>\n",
       "      <th>...</th>\n",
       "      <th>description</th>\n",
       "      <th>category_name</th>\n",
       "      <th>likes_rate</th>\n",
       "      <th>dislikes_rate</th>\n",
       "      <th>comment_count_rate</th>\n",
       "      <th>months</th>\n",
       "      <th>likes_log</th>\n",
       "      <th>dislikes_log</th>\n",
       "      <th>comments_log</th>\n",
       "      <th>views_log</th>\n",
       "    </tr>\n",
       "  </thead>\n",
       "  <tbody>\n",
       "    <tr>\n",
       "      <th>0</th>\n",
       "      <td>1ZAPwfrtAFY</td>\n",
       "      <td>17.13.11</td>\n",
       "      <td>The Trump Presidency: Last Week Tonight with J...</td>\n",
       "      <td>LastWeekTonight</td>\n",
       "      <td>24</td>\n",
       "      <td>2017-11-13 07:30:00</td>\n",
       "      <td>last week tonight trump presidency|\"last week ...</td>\n",
       "      <td>993345</td>\n",
       "      <td>65551</td>\n",
       "      <td>3544</td>\n",
       "      <td>...</td>\n",
       "      <td>One year after the presidential election, John...</td>\n",
       "      <td>Entertainment</td>\n",
       "      <td>6.599016</td>\n",
       "      <td>0.356774</td>\n",
       "      <td>0.818245</td>\n",
       "      <td>11</td>\n",
       "      <td>11.090599</td>\n",
       "      <td>8.173293</td>\n",
       "      <td>9.003193</td>\n",
       "      <td>13.808834</td>\n",
       "    </tr>\n",
       "    <tr>\n",
       "      <th>1</th>\n",
       "      <td>5qpjK5DgCt4</td>\n",
       "      <td>17.13.11</td>\n",
       "      <td>Racist Superman | Rudy Mancuso, King Bach &amp; Le...</td>\n",
       "      <td>Rudy Mancuso</td>\n",
       "      <td>23</td>\n",
       "      <td>2017-11-12 19:05:24</td>\n",
       "      <td>racist superman|\"rudy\"|\"mancuso\"|\"king\"|\"bach\"...</td>\n",
       "      <td>2568721</td>\n",
       "      <td>132724</td>\n",
       "      <td>4495</td>\n",
       "      <td>...</td>\n",
       "      <td>WATCH MY PREVIOUS VIDEO ▶ \\n\\nSUBSCRIBE ► http...</td>\n",
       "      <td>Comedy</td>\n",
       "      <td>5.166929</td>\n",
       "      <td>0.174990</td>\n",
       "      <td>0.291741</td>\n",
       "      <td>11</td>\n",
       "      <td>11.796035</td>\n",
       "      <td>8.410943</td>\n",
       "      <td>8.921991</td>\n",
       "      <td>14.758919</td>\n",
       "    </tr>\n",
       "    <tr>\n",
       "      <th>2</th>\n",
       "      <td>puqaWrEC7tY</td>\n",
       "      <td>17.13.11</td>\n",
       "      <td>Nickleback Lyrics: Real or Fake?</td>\n",
       "      <td>Good Mythical Morning</td>\n",
       "      <td>24</td>\n",
       "      <td>2017-11-13 11:00:04</td>\n",
       "      <td>rhett and link|\"gmm\"|\"good mythical morning\"|\"...</td>\n",
       "      <td>118585</td>\n",
       "      <td>6183</td>\n",
       "      <td>361</td>\n",
       "      <td>...</td>\n",
       "      <td>Today we find out if Link is a Nickelback amat...</td>\n",
       "      <td>Entertainment</td>\n",
       "      <td>5.213982</td>\n",
       "      <td>0.304423</td>\n",
       "      <td>1.158663</td>\n",
       "      <td>11</td>\n",
       "      <td>8.729721</td>\n",
       "      <td>5.891644</td>\n",
       "      <td>7.226209</td>\n",
       "      <td>11.683394</td>\n",
       "    </tr>\n",
       "    <tr>\n",
       "      <th>3</th>\n",
       "      <td>d380meD0W0M</td>\n",
       "      <td>17.13.11</td>\n",
       "      <td>I Dare You: GOING BALD!?</td>\n",
       "      <td>nigahiga</td>\n",
       "      <td>24</td>\n",
       "      <td>2017-11-12 18:01:41</td>\n",
       "      <td>ryan|\"higa\"|\"higatv\"|\"nigahiga\"|\"i dare you\"|\"...</td>\n",
       "      <td>1867990</td>\n",
       "      <td>123933</td>\n",
       "      <td>1836</td>\n",
       "      <td>...</td>\n",
       "      <td>I know it's been a while since we did this sho...</td>\n",
       "      <td>Entertainment</td>\n",
       "      <td>6.634564</td>\n",
       "      <td>0.098287</td>\n",
       "      <td>0.890529</td>\n",
       "      <td>11</td>\n",
       "      <td>11.727504</td>\n",
       "      <td>7.515889</td>\n",
       "      <td>9.719324</td>\n",
       "      <td>14.440374</td>\n",
       "    </tr>\n",
       "    <tr>\n",
       "      <th>4</th>\n",
       "      <td>nc99ccSXST0</td>\n",
       "      <td>17.13.11</td>\n",
       "      <td>5 Ice Cream Gadgets put to the Test</td>\n",
       "      <td>CrazyRussianHacker</td>\n",
       "      <td>28</td>\n",
       "      <td>2017-11-12 21:50:37</td>\n",
       "      <td>5 Ice Cream Gadgets|\"Ice Cream\"|\"Cream Sandwic...</td>\n",
       "      <td>669608</td>\n",
       "      <td>21357</td>\n",
       "      <td>591</td>\n",
       "      <td>...</td>\n",
       "      <td>Ice Cream Pint Combination Lock - http://amzn....</td>\n",
       "      <td>Science and Technology</td>\n",
       "      <td>3.189478</td>\n",
       "      <td>0.088261</td>\n",
       "      <td>0.455490</td>\n",
       "      <td>11</td>\n",
       "      <td>9.969182</td>\n",
       "      <td>6.383507</td>\n",
       "      <td>8.023225</td>\n",
       "      <td>13.414449</td>\n",
       "    </tr>\n",
       "  </tbody>\n",
       "</table>\n",
       "<p>5 rows × 25 columns</p>\n",
       "</div>"
      ],
      "text/plain": [
       "      video_id trending_date  \\\n",
       "0  1ZAPwfrtAFY      17.13.11   \n",
       "1  5qpjK5DgCt4      17.13.11   \n",
       "2  puqaWrEC7tY      17.13.11   \n",
       "3  d380meD0W0M      17.13.11   \n",
       "4  nc99ccSXST0      17.13.11   \n",
       "\n",
       "                                               title          channel_title  \\\n",
       "0  The Trump Presidency: Last Week Tonight with J...        LastWeekTonight   \n",
       "1  Racist Superman | Rudy Mancuso, King Bach & Le...           Rudy Mancuso   \n",
       "2                   Nickleback Lyrics: Real or Fake?  Good Mythical Morning   \n",
       "3                           I Dare You: GOING BALD!?               nigahiga   \n",
       "4                5 Ice Cream Gadgets put to the Test     CrazyRussianHacker   \n",
       "\n",
       "   category_id        publish_time  \\\n",
       "0           24 2017-11-13 07:30:00   \n",
       "1           23 2017-11-12 19:05:24   \n",
       "2           24 2017-11-13 11:00:04   \n",
       "3           24 2017-11-12 18:01:41   \n",
       "4           28 2017-11-12 21:50:37   \n",
       "\n",
       "                                                tags    views   likes  \\\n",
       "0  last week tonight trump presidency|\"last week ...   993345   65551   \n",
       "1  racist superman|\"rudy\"|\"mancuso\"|\"king\"|\"bach\"...  2568721  132724   \n",
       "2  rhett and link|\"gmm\"|\"good mythical morning\"|\"...   118585    6183   \n",
       "3  ryan|\"higa\"|\"higatv\"|\"nigahiga\"|\"i dare you\"|\"...  1867990  123933   \n",
       "4  5 Ice Cream Gadgets|\"Ice Cream\"|\"Cream Sandwic...   669608   21357   \n",
       "\n",
       "   dislikes  ...                                        description  \\\n",
       "0      3544  ...  One year after the presidential election, John...   \n",
       "1      4495  ...  WATCH MY PREVIOUS VIDEO ▶ \\n\\nSUBSCRIBE ► http...   \n",
       "2       361  ...  Today we find out if Link is a Nickelback amat...   \n",
       "3      1836  ...  I know it's been a while since we did this sho...   \n",
       "4       591  ...  Ice Cream Pint Combination Lock - http://amzn....   \n",
       "\n",
       "            category_name  likes_rate  dislikes_rate  comment_count_rate  \\\n",
       "0           Entertainment    6.599016       0.356774            0.818245   \n",
       "1                  Comedy    5.166929       0.174990            0.291741   \n",
       "2           Entertainment    5.213982       0.304423            1.158663   \n",
       "3           Entertainment    6.634564       0.098287            0.890529   \n",
       "4  Science and Technology    3.189478       0.088261            0.455490   \n",
       "\n",
       "  months  likes_log  dislikes_log  comments_log  views_log  \n",
       "0     11  11.090599      8.173293      9.003193  13.808834  \n",
       "1     11  11.796035      8.410943      8.921991  14.758919  \n",
       "2     11   8.729721      5.891644      7.226209  11.683394  \n",
       "3     11  11.727504      7.515889      9.719324  14.440374  \n",
       "4     11   9.969182      6.383507      8.023225  13.414449  \n",
       "\n",
       "[5 rows x 25 columns]"
      ]
     },
     "execution_count": 12,
     "metadata": {},
     "output_type": "execute_result"
    }
   ],
   "source": [
    "youtubeUS.head()"
   ]
  },
  {
   "cell_type": "markdown",
   "metadata": {},
   "source": [
    "### Linear squares "
   ]
  },
  {
   "cell_type": "code",
   "execution_count": 30,
   "metadata": {},
   "outputs": [],
   "source": [
    "from sklearn.linear_model import LinearRegression\n",
    "from sklearn.model_selection import train_test_split\n"
   ]
  },
  {
   "cell_type": "code",
   "execution_count": 70,
   "metadata": {},
   "outputs": [],
   "source": [
    "from sklearn.metrics import mean_squared_error, r2_score"
   ]
  },
  {
   "cell_type": "markdown",
   "metadata": {},
   "source": [
    "For this lab I used sklearn library and thinkstats classes, both.\n",
    "\n",
    "But I shall explain them both, starting with sklearn method."
   ]
  },
  {
   "cell_type": "markdown",
   "metadata": {},
   "source": [
    "Basically, here I am going to make a simple linear regression model, thus I have splitted the data into training and test sets."
   ]
  },
  {
   "cell_type": "code",
   "execution_count": 31,
   "metadata": {},
   "outputs": [],
   "source": [
    "xTrain, xTest, yTrain, yTest = train_test_split(youtubeUS.likes.to_frame(), \n",
    "                                                youtubeUS.dislikes.to_frame(), \n",
    "                                                test_size = 1/3, random_state = 0)"
   ]
  },
  {
   "cell_type": "markdown",
   "metadata": {},
   "source": [
    "Then I used fit function of LinearRegression object to make it “learn” using the above separated training data."
   ]
  },
  {
   "cell_type": "code",
   "execution_count": 37,
   "metadata": {},
   "outputs": [],
   "source": [
    "reg = LinearRegression().fit(xTrain, yTrain)"
   ]
  },
  {
   "cell_type": "markdown",
   "metadata": {},
   "source": [
    "And now, since the model has already been trained, I can generate the interception and the slope of the line, which will be:"
   ]
  },
  {
   "cell_type": "code",
   "execution_count": 50,
   "metadata": {},
   "outputs": [
    {
     "data": {
      "text/plain": [
       "(-605.6466215178916, 0.05879266235505049)"
      ]
     },
     "execution_count": 50,
     "metadata": {},
     "output_type": "execute_result"
    }
   ],
   "source": [
    "reg.intercept_[0], reg.coef_[0][0]"
   ]
  },
  {
   "cell_type": "markdown",
   "metadata": {},
   "source": [
    "By prediction the xTest on our built model, we can get the mean squared error in further"
   ]
  },
  {
   "cell_type": "code",
   "execution_count": 39,
   "metadata": {},
   "outputs": [],
   "source": [
    "yPrediction = reg.predict(xTest)"
   ]
  },
  {
   "cell_type": "code",
   "execution_count": 78,
   "metadata": {},
   "outputs": [
    {
     "data": {
      "image/png": "[encoded data removed]",
      "text/plain": [
       "<Figure size 432x288 with 1 Axes>"
      ]
     },
     "metadata": {
      "needs_background": "light"
     },
     "output_type": "display_data"
    }
   ],
   "source": [
    "mth.scatter(xTest, yTest, color = 'blue')\n",
    "mth.plot(xTrain, reg.predict(xTrain), color = 'red')\n",
    "mth.title('Likes vs Dislikes')\n",
    "mth.xlabel('likes')\n",
    "mth.ylabel('dislikes')\n",
    "mth.show()"
   ]
  },
  {
   "cell_type": "markdown",
   "metadata": {},
   "source": [
    "And here's how the model looks like on the plot.\n",
    "\n",
    "Nonetheless, the interception and slope would make more sense, if I would 'predict' the dislikes number on likes.\n",
    "\n",
    "So let's say I want to know what would be the dislikes amount on the video that has got 3.9m likes\n",
    "\n",
    "And this can be determined by the simple linear formula y = x*Slope + Intercept"
   ]
  },
  {
   "cell_type": "code",
   "execution_count": 61,
   "metadata": {},
   "outputs": [
    {
     "data": {
      "text/plain": [
       "228685.72737848"
      ]
     },
     "execution_count": 61,
     "metadata": {},
     "output_type": "execute_result"
    }
   ],
   "source": [
    "-605.64662152+0.05879266*3900000"
   ]
  },
  {
   "cell_type": "markdown",
   "metadata": {},
   "source": [
    "So yes, regarding to our plot, we can really say that more the likes on the video, the less dislikes was gained."
   ]
  },
  {
   "cell_type": "code",
   "execution_count": 71,
   "metadata": {},
   "outputs": [
    {
     "name": "stdout",
     "output_type": "stream",
     "text": [
      "Mean squared error: 661068971.59\n",
      "r_2 statistic: 0.19\n"
     ]
    }
   ],
   "source": [
    "print(\"Mean squared error: %.2f\" % mean_squared_error(yTest, yPrediction))\n",
    "print('r_2 statistic: %.2f' % r2_score(yTest, yPrediction))"
   ]
  },
  {
   "cell_type": "markdown",
   "metadata": {},
   "source": [
    "#### Alan classes for simple linear regression"
   ]
  },
  {
   "cell_type": "code",
   "execution_count": 72,
   "metadata": {},
   "outputs": [],
   "source": [
    "from thinkstats2 import Mean, MeanVar, Var, Std, Cov\n",
    "\n",
    "def LeastSquares(xs, ys):\n",
    "    meanx, varx = MeanVar(xs)\n",
    "    meany = Mean(ys)\n",
    "\n",
    "    slope = Cov(xs, ys, meanx, meany) / varx\n",
    "    inter = meany - slope * meanx\n",
    "\n",
    "    return inter, slope"
   ]
  },
  {
   "cell_type": "markdown",
   "metadata": {},
   "source": [
    "The function above takes sequences xs and ys and returns the estimated parameters inter and slope"
   ]
  },
  {
   "cell_type": "code",
   "execution_count": 74,
   "metadata": {},
   "outputs": [
    {
     "data": {
      "text/plain": [
       "(-500.78425795106705, 0.05671700787527557)"
      ]
     },
     "execution_count": 74,
     "metadata": {},
     "output_type": "execute_result"
    }
   ],
   "source": [
    "inter, slope = LeastSquares(youtubeUS.likes, youtubeUS.dislikes)\n",
    "inter, slope"
   ]
  },
  {
   "cell_type": "markdown",
   "metadata": {},
   "source": [
    "Yes, if you have noticed, the intercept from SciKit and LeastSquares differ, but that's because previously I have splitted into train and test and now I don't."
   ]
  },
  {
   "cell_type": "code",
   "execution_count": 75,
   "metadata": {},
   "outputs": [],
   "source": [
    "def FitLine(xs, inter, slope):\n",
    "    fit_xs = np.sort(xs)\n",
    "    fit_ys = inter + slope * fit_xs\n",
    "    return fit_xs, fit_ys"
   ]
  },
  {
   "cell_type": "markdown",
   "metadata": {},
   "source": [
    "There is also a FitLine function, which takes inter and slope and returns the fitted line for a sequence of xs."
   ]
  },
  {
   "cell_type": "code",
   "execution_count": 76,
   "metadata": {},
   "outputs": [],
   "source": [
    "fit_xs, fit_ys = FitLine(youtubeUS.likes, inter, slope)"
   ]
  },
  {
   "cell_type": "code",
   "execution_count": 77,
   "metadata": {},
   "outputs": [
    {
     "data": {
      "image/png": "[encoded data removed]",
      "text/plain": [
       "<Figure size 432x288 with 1 Axes>"
      ]
     },
     "metadata": {
      "needs_background": "light"
     },
     "output_type": "display_data"
    }
   ],
   "source": [
    "thinkplot.Scatter(youtubeUS.likes, youtubeUS.dislikes, color='blue', alpha=0.1, s=10)\n",
    "thinkplot.Plot(fit_xs, fit_ys, color='white', linewidth=3)\n",
    "thinkplot.Plot(fit_xs, fit_ys, color='red', linewidth=2)\n",
    "thinkplot.Config(xlabel=\"likes\",\n",
    "                 ylabel='dislikes',\n",
    "                 legend=False)"
   ]
  },
  {
   "cell_type": "markdown",
   "metadata": {},
   "source": [
    "But anyways, the line remains the same as in the first case and here, too"
   ]
  },
  {
   "cell_type": "markdown",
   "metadata": {},
   "source": [
    "### Residuals"
   ]
  },
  {
   "cell_type": "code",
   "execution_count": 68,
   "metadata": {},
   "outputs": [
    {
     "data": {
      "text/plain": [
       "<matplotlib.axes._subplots.AxesSubplot at 0x13668a62d08>"
      ]
     },
     "execution_count": 68,
     "metadata": {},
     "output_type": "execute_result"
    },
    {
     "data": {
      "image/png": "[encoded data removed]",
      "text/plain": [
       "<Figure size 432x288 with 1 Axes>"
      ]
     },
     "metadata": {
      "needs_background": "light"
     },
     "output_type": "display_data"
    }
   ],
   "source": [
    "sns.residplot(xTest, yTest)"
   ]
  },
  {
   "cell_type": "markdown",
   "metadata": {},
   "source": [
    "Refering to the plot above, we see that our residuals show an actual pattern, which is specifically suitable for nonlinear relationship"
   ]
  },
  {
   "cell_type": "markdown",
   "metadata": {},
   "source": [
    "Here also I tried to experience with seaborn lib, that provides residplot special for estimation of residuals."
   ]
  },
  {
   "cell_type": "code",
   "execution_count": 79,
   "metadata": {},
   "outputs": [],
   "source": [
    "def Residuals(xs, ys, inter, slope):\n",
    "    xs = np.asarray(xs)\n",
    "    ys = np.asarray(ys)\n",
    "    res = ys - (inter + slope * xs)\n",
    "    return res"
   ]
  },
  {
   "cell_type": "code",
   "execution_count": 80,
   "metadata": {},
   "outputs": [],
   "source": [
    "youtubeUS['residual'] = Residuals(youtubeUS.likes, youtubeUS.dislikes, inter, slope)"
   ]
  },
  {
   "cell_type": "markdown",
   "metadata": {},
   "source": [
    "thinkstats function Residuals returns the differences between the actual values and the fitted line"
   ]
  },
  {
   "cell_type": "code",
   "execution_count": 109,
   "metadata": {},
   "outputs": [
    {
     "data": {
      "text/plain": [
       "[57677.06367668803,\n",
       " 1383175.0383141763,\n",
       " 2429730.38028169,\n",
       " 3414447.111111111,\n",
       " 4560537.470588235,\n",
       " 5348477.363636363]"
      ]
     },
     "execution_count": 109,
     "metadata": {},
     "output_type": "execute_result"
    }
   ],
   "source": [
    "bins = np.arange(0, 6000000, 1000000)\n",
    "indices = np.digitize(youtubeUS.likes, bins)\n",
    "groups = youtubeUS.groupby(indices)\n",
    "\n",
    "likes_means = [group.likes.mean() for _, group in groups]\n",
    "likes_means"
   ]
  },
  {
   "cell_type": "code",
   "execution_count": 110,
   "metadata": {},
   "outputs": [
    {
     "data": {
      "text/plain": [
       "[Cdf([-53107.89868755 -52749.73981149 -51488.94612515 ... 224121.45932818\n",
       "  228383.88905857 582240.64365312], [2.46426811e-05 4.92853622e-05 7.39280434e-05 ... 9.99950715e-01\n",
       "  9.99975357e-01 1.00000000e+00]),\n",
       " Cdf([-9.64831400e+04 -9.06446642e+04 -9.05270496e+04 -9.03852853e+04\n",
       "  -9.03809855e+04 -9.02093298e+04 -9.01399463e+04 -8.97186765e+04\n",
       "  -8.95276743e+04 -8.94062296e+04 -8.92609421e+04 -8.90534470e+04\n",
       "  -8.89394625e+04 -8.87351161e+04 -8.86025857e+04 -8.82728199e+04\n",
       "  -8.79264086e+04 -8.76808397e+04 -8.74962046e+04 -8.69312885e+04\n",
       "  -8.63264994e+04 -8.62558395e+04 -8.48714923e+04 -8.32186814e+04\n",
       "  -8.28731516e+04 -8.06018990e+04 -8.04415698e+04 -7.87550697e+04\n",
       "  -7.64156742e+04 -7.59849861e+04 -7.46602760e+04 -7.43673171e+04\n",
       "  -7.39939089e+04 -7.27436398e+04 -7.26740395e+04 -7.10998395e+04\n",
       "  -6.83350249e+04 -6.41109916e+04 -5.95584983e+04 -5.94656848e+04\n",
       "  -5.93332740e+04 -5.92012841e+04 -5.91453549e+04 -5.88436942e+04\n",
       "  -5.87312892e+04 -5.86315780e+04 -5.83650494e+04 -5.81092228e+04\n",
       "  -5.74852896e+04 -5.72024411e+04 -5.67856865e+04 -5.61784012e+04\n",
       "  -5.55891722e+04 -5.54441154e+04 -5.53783466e+04 -5.53406225e+04\n",
       "  -5.52355262e+04 -5.50724733e+04 -5.49972276e+04 -5.49662129e+04\n",
       "  -5.49244935e+04 -5.47702668e+04 -5.47098840e+04 -5.44789724e+04\n",
       "  -5.42775188e+04 -5.40658439e+04 -5.39352719e+04 -5.39062446e+04\n",
       "  -5.33004890e+04 -5.30536143e+04 -5.27032137e+04 -5.26581257e+04\n",
       "  -5.18961504e+04 -5.17977748e+04 -5.08065883e+04 -5.05310208e+04\n",
       "  -4.96933191e+04 -4.74283408e+04 -4.71267991e+04 -4.68568369e+04\n",
       "  -4.64823066e+04 -4.61181552e+04 -4.43649841e+04 -4.42426024e+04\n",
       "  -4.38172808e+04 -4.36565191e+04 -4.35720042e+04 -4.34213852e+04\n",
       "  -4.32205949e+04 -4.29267531e+04 -4.27326205e+04 -4.26847405e+04\n",
       "  -4.26674983e+04 -4.24011092e+04 -4.21665357e+04 -4.18624059e+04\n",
       "  -4.16607796e+04 -4.15546752e+04 -4.13087625e+04 -4.06968312e+04\n",
       "  -4.06415887e+04 -4.05019558e+04 -4.04843368e+04 -4.03964633e+04\n",
       "  -4.02983082e+04 -4.01256272e+04 -4.01129105e+04 -4.00017669e+04\n",
       "  -3.99242004e+04 -3.97859140e+04 -3.96927016e+04 -3.96221146e+04\n",
       "  -3.95125141e+04 -3.92543792e+04 -3.92459538e+04 -3.88710025e+04\n",
       "  -3.88467608e+04 -3.80068845e+04 -3.79610839e+04 -3.77481725e+04\n",
       "  -3.74299263e+04 -3.73286112e+04 -3.70143744e+04 -3.69461449e+04\n",
       "  -3.68114974e+04 -3.66159837e+04 -3.59971514e+04 -3.59092945e+04\n",
       "  -3.57146047e+04 -3.56801189e+04 -3.56407624e+04 -3.56229643e+04\n",
       "  -3.53252437e+04 -3.52834089e+04 -3.52706947e+04 -3.51332199e+04\n",
       "  -3.48560526e+04 -3.46778436e+04 -3.41324861e+04 -3.39940162e+04\n",
       "  -3.34233468e+04 -3.33895468e+04 -3.16518006e+04 -3.08464953e+04\n",
       "  -2.76597463e+04 -2.64607502e+04 -2.64147095e+04 -2.63750115e+04\n",
       "  -2.63098596e+04 -2.62729431e+04 -2.57964605e+04 -2.57666154e+04\n",
       "  -2.57327747e+04 -2.57151219e+04 -2.57142098e+04 -2.57128445e+04\n",
       "  -2.57069267e+04 -2.56781558e+04 -2.56720982e+04 -2.56571655e+04\n",
       "  -2.56519006e+04 -2.56492477e+04 -2.56368262e+04 -2.56297625e+04\n",
       "  -2.56114538e+04 -2.55959519e+04 -2.55814400e+04 -2.55547647e+04\n",
       "  -2.48624396e+04 -2.45564219e+04 -2.42288544e+04 -2.41827953e+04\n",
       "  -2.35140171e+04 -2.17111151e+04 -2.12855904e+04 -2.00927216e+04\n",
       "  -1.70863922e+04 -1.57883898e+04 -1.50371515e+04 -1.48462919e+04\n",
       "  -1.42988424e+04 -1.40180358e+04 -1.21078982e+04 -9.19165261e+03\n",
       "  -8.57228812e+03 -7.22163685e+03 -6.63451308e+03 -6.08529940e+03\n",
       "  -5.42221851e+03 -5.10213567e+03 -4.38837925e+03 -4.22609663e+03\n",
       "  -3.51823412e+03 -3.10185848e+03 -2.92257446e+03 -2.59097948e+03\n",
       "  -2.23960169e+03 -2.05388842e+03 -1.80496683e+03 -1.44826101e+03\n",
       "  -1.29076987e+03 -9.13831170e+02 -8.87974009e+02 -8.85722604e+02\n",
       "  -6.98228619e+02 -3.65562963e+02 -1.43483613e+02 -6.60099505e+01\n",
       "   4.64220577e+02  1.18199526e+03  1.94892570e+03  2.61273961e+03\n",
       "   3.19064071e+03  3.62340423e+03  3.95850047e+03  4.30856017e+03\n",
       "   4.67247708e+03  5.11816001e+03  2.83317935e+04  2.92971103e+04\n",
       "   3.00872182e+04  3.10299060e+04  3.18838609e+04  3.26319387e+04\n",
       "   3.33322858e+04  3.38616120e+04  3.41165197e+04  3.48047469e+04\n",
       "   3.53202363e+04  3.65844085e+04  3.76763927e+04  3.85352951e+04\n",
       "   3.92807756e+04  3.94489164e+04  3.99414634e+04  4.07795644e+04\n",
       "   4.15010981e+04  4.20950339e+04  4.26106277e+04  4.32334858e+04\n",
       "   4.36143453e+04  4.40199252e+04  8.19273582e+04  8.32941446e+04\n",
       "   2.12692436e+05  2.23413619e+05  2.42858846e+05  2.97774954e+05\n",
       "   3.29764533e+05  3.53264207e+05  3.66280228e+05  3.76573192e+05\n",
       "   3.85552062e+05  4.19246450e+05  7.78147605e+05  1.00488105e+06\n",
       "   1.21109642e+06  1.34395555e+06  1.44285396e+06  1.53379356e+06\n",
       "   1.59537076e+06], [0.00383142 0.00766284 0.01149425 0.01532567 0.01915709 0.02298851\n",
       "  0.02681992 0.03065134 0.03448276 0.03831418 0.04214559 0.04597701\n",
       "  0.04980843 0.05363985 0.05747126 0.06130268 0.0651341  0.06896552\n",
       "  0.07279693 0.07662835 0.08045977 0.08429119 0.08812261 0.09195402\n",
       "  0.09578544 0.09961686 0.10344828 0.10727969 0.11111111 0.11494253\n",
       "  0.11877395 0.12260536 0.12643678 0.1302682  0.13409962 0.13793103\n",
       "  0.14176245 0.14559387 0.14942529 0.1532567  0.15708812 0.16091954\n",
       "  0.16475096 0.16858238 0.17241379 0.17624521 0.18007663 0.18390805\n",
       "  0.18773946 0.19157088 0.1954023  0.19923372 0.20306513 0.20689655\n",
       "  0.21072797 0.21455939 0.2183908  0.22222222 0.22605364 0.22988506\n",
       "  0.23371648 0.23754789 0.24137931 0.24521073 0.24904215 0.25287356\n",
       "  0.25670498 0.2605364  0.26436782 0.26819923 0.27203065 0.27586207\n",
       "  0.27969349 0.2835249  0.28735632 0.29118774 0.29501916 0.29885057\n",
       "  0.30268199 0.30651341 0.31034483 0.31417625 0.31800766 0.32183908\n",
       "  0.3256705  0.32950192 0.33333333 0.33716475 0.34099617 0.34482759\n",
       "  0.348659   0.35249042 0.35632184 0.36015326 0.36398467 0.36781609\n",
       "  0.37164751 0.37547893 0.37931034 0.38314176 0.38697318 0.3908046\n",
       "  0.39463602 0.39846743 0.40229885 0.40613027 0.40996169 0.4137931\n",
       "  0.41762452 0.42145594 0.42528736 0.42911877 0.43295019 0.43678161\n",
       "  0.44061303 0.44444444 0.44827586 0.45210728 0.4559387  0.45977011\n",
       "  0.46360153 0.46743295 0.47126437 0.47509579 0.4789272  0.48275862\n",
       "  0.48659004 0.49042146 0.49425287 0.49808429 0.50191571 0.50574713\n",
       "  0.50957854 0.51340996 0.51724138 0.5210728  0.52490421 0.52873563\n",
       "  0.53256705 0.53639847 0.54022989 0.5440613  0.54789272 0.55172414\n",
       "  0.55555556 0.55938697 0.56321839 0.56704981 0.57088123 0.57471264\n",
       "  0.57854406 0.58237548 0.5862069  0.59003831 0.59386973 0.59770115\n",
       "  0.60153257 0.60536398 0.6091954  0.61302682 0.61685824 0.62068966\n",
       "  0.62452107 0.62835249 0.63218391 0.63601533 0.63984674 0.64367816\n",
       "  0.64750958 0.651341   0.65517241 0.65900383 0.66283525 0.66666667\n",
       "  0.67049808 0.6743295  0.67816092 0.68199234 0.68582375 0.68965517\n",
       "  0.69348659 0.69731801 0.70114943 0.70498084 0.70881226 0.71264368\n",
       "  0.7164751  0.72030651 0.72413793 0.72796935 0.73180077 0.73563218\n",
       "  0.7394636  0.74329502 0.74712644 0.75095785 0.75478927 0.75862069\n",
       "  0.76245211 0.76628352 0.77011494 0.77394636 0.77777778 0.7816092\n",
       "  0.78544061 0.78927203 0.79310345 0.79693487 0.80076628 0.8045977\n",
       "  0.80842912 0.81226054 0.81609195 0.81992337 0.82375479 0.82758621\n",
       "  0.83141762 0.83524904 0.83908046 0.84291188 0.8467433  0.85057471\n",
       "  0.85440613 0.85823755 0.86206897 0.86590038 0.8697318  0.87356322\n",
       "  0.87739464 0.88122605 0.88505747 0.88888889 0.89272031 0.89655172\n",
       "  0.90038314 0.90421456 0.90804598 0.91187739 0.91570881 0.91954023\n",
       "  0.92337165 0.92720307 0.93103448 0.9348659  0.93869732 0.94252874\n",
       "  0.94636015 0.95019157 0.95402299 0.95785441 0.96168582 0.96551724\n",
       "  0.96934866 0.97318008 0.97701149 0.98084291 0.98467433 0.98850575\n",
       "  0.99233716 0.99616858 1.        ]),\n",
       " Cdf([-123339.51061159 -121983.50581518 -121330.47536931 -120838.25787213\n",
       "  -120736.08621227 -119679.06440938 -118509.80610729 -118101.81184838\n",
       "  -116823.45765856 -114133.47782209 -113327.30787829 -109720.28644635\n",
       "  -106400.49159998 -105136.856404   -103821.86780729 -103702.50255636\n",
       "  -103491.35393169 -103188.68500742 -102908.87343261 -102665.47417685\n",
       "  -102601.68310478 -102400.68680534 -102095.78850643 -101730.65015083\n",
       "  -101600.68494105 -101356.11517144 -101087.97174951  -97893.85946371\n",
       "   -97179.17644518  -94709.85135685  -94330.28492423  -94251.19424664\n",
       "   -93918.07792105  -93426.48155361  -92865.6715164   -92172.43715582\n",
       "   -91997.57758072  -90595.18205059  -90573.46876908  -87802.03499374\n",
       "   -86914.68894101  -48010.27703788  -47984.65371937  -47886.20413887\n",
       "   -47680.97395376  -47363.93404633  -47147.98453552  -46991.67010047\n",
       "   -46948.24446076  -46929.38021019  -46896.94253075  -46891.89817794\n",
       "   -46865.81391768  -46733.02197173  -46400.94304477  -45772.85406922\n",
       "   -44249.57940151  -19377.427004    -18976.96078354  -18664.82651565\n",
       "   -17936.59239327  -17098.89847071  -15805.2334321   -13963.7373255\n",
       "   -13695.80743103  -13254.69187609  -13096.43571926 1000583.59607543\n",
       "  1203470.03483303 1311440.08096386 1380316.04198562], [0.01408451 0.02816901 0.04225352 0.05633803 0.07042254 0.08450704\n",
       "  0.09859155 0.11267606 0.12676056 0.14084507 0.15492958 0.16901408\n",
       "  0.18309859 0.1971831  0.21126761 0.22535211 0.23943662 0.25352113\n",
       "  0.26760563 0.28169014 0.29577465 0.30985915 0.32394366 0.33802817\n",
       "  0.35211268 0.36619718 0.38028169 0.3943662  0.4084507  0.42253521\n",
       "  0.43661972 0.45070423 0.46478873 0.47887324 0.49295775 0.50704225\n",
       "  0.52112676 0.53521127 0.54929577 0.56338028 0.57746479 0.5915493\n",
       "  0.6056338  0.61971831 0.63380282 0.64788732 0.66197183 0.67605634\n",
       "  0.69014085 0.70422535 0.71830986 0.73239437 0.74647887 0.76056338\n",
       "  0.77464789 0.78873239 0.8028169  0.81690141 0.83098592 0.84507042\n",
       "  0.85915493 0.87323944 0.88732394 0.90140845 0.91549296 0.92957746\n",
       "  0.94366197 0.95774648 0.97183099 0.98591549 1.        ]),\n",
       " Cdf([-146858.23320568  -45480.82916532   -9953.38674257   -5081.82963876\n",
       "     3026.07077075   14463.78095716   21537.23847195 1431912.00881116\n",
       "  1468103.22484744], [0.11111111 0.22222222 0.33333333 0.44444444 0.55555556 0.66666667\n",
       "  0.77777778 0.88888889 1.        ]),\n",
       " Cdf([-134028.60564752 -126952.89881654 -122753.31478526   25857.49159637\n",
       "    28865.02764065   31669.33469596   34274.82231445   37168.7671638\n",
       "    39935.49483898   42732.15498014   45325.0465446    47415.70549035\n",
       "    49212.38171248   51074.78708028   53093.92495359   56110.40460386\n",
       "    57153.13422666], [0.05882353 0.11764706 0.17647059 0.23529412 0.29411765 0.35294118\n",
       "  0.41176471 0.47058824 0.52941176 0.58823529 0.64705882 0.70588235\n",
       "  0.76470588 0.82352941 0.88235294 0.94117647 1.        ]),\n",
       " Cdf([-120255.91643141 -119068.93813326 -116809.636954   -114982.21488356\n",
       "  -114464.41176884 -113811.87233079 -113030.51518156 -112181.4845528\n",
       "  -111277.38835681 -111006.68591148   59126.7310469 ], [0.09090909 0.18181818 0.27272727 0.36363636 0.45454545 0.54545455\n",
       "  0.63636364 0.72727273 0.81818182 0.90909091 1.        ])]"
      ]
     },
     "execution_count": 110,
     "metadata": {},
     "output_type": "execute_result"
    }
   ],
   "source": [
    "cdfs = [thinkstats2.Cdf(group.residual) for _, group in groups]\n",
    "cdfs"
   ]
  },
  {
   "cell_type": "code",
   "execution_count": 111,
   "metadata": {},
   "outputs": [],
   "source": [
    "def PlotPercentiles(likes_means, cdfs):\n",
    "    thinkplot.PrePlot(3)\n",
    "    for percent in [75, 50, 25]:\n",
    "        dislikes_percentiles = [cdf.Percentile(percent) for cdf in cdfs]\n",
    "        label = '%dth' % percent\n",
    "        thinkplot.Plot(likes_means, dislikes_percentiles, label=label)"
   ]
  },
  {
   "cell_type": "code",
   "execution_count": 112,
   "metadata": {},
   "outputs": [
    {
     "data": {
      "image/png": "[encoded data removed]",
      "text/plain": [
       "<Figure size 432x288 with 1 Axes>"
      ]
     },
     "metadata": {
      "needs_background": "light"
     },
     "output_type": "display_data"
    }
   ],
   "source": [
    "PlotPercentiles(likes_means, cdfs)\n",
    "\n",
    "thinkplot.Config(xlabel=\"Likes\",\n",
    "                 ylabel='Dislikes')"
   ]
  },
  {
   "cell_type": "markdown",
   "metadata": {},
   "source": [
    "To plot the residuals, I group respondents by likes and compute percentiles in each group. The plot above shows the 25th, 50th and 75th percentiles of the residuals for each likes group."
   ]
  },
  {
   "cell_type": "markdown",
   "metadata": {},
   "source": [
    "And additionally, regarding to the plot above, I can say that linear regression does not fit on this data well, so it is possible to say that this relationship is nonlinear."
   ]
  },
  {
   "cell_type": "markdown",
   "metadata": {},
   "source": [
    "### Sampling distribution\n"
   ]
  },
  {
   "cell_type": "code",
   "execution_count": 113,
   "metadata": {},
   "outputs": [],
   "source": [
    "def SampleRows(df, nrows, replace=False):\n",
    "    indices = np.random.choice(df.index, nrows, replace=replace)\n",
    "    sample = df.loc[indices]\n",
    "    return sample\n",
    "\n",
    "def ResampleRows(df):\n",
    "    return SampleRows(df, len(df), replace=True)"
   ]
  },
  {
   "cell_type": "code",
   "execution_count": 115,
   "metadata": {},
   "outputs": [],
   "source": [
    "def SamplingDistributions(data, iters=101):\n",
    "    t = []\n",
    "    for _ in range(iters):\n",
    "        sample = ResampleRows(data)\n",
    "        likes = sample.likes\n",
    "        dislikes = sample.dislikes\n",
    "        estimates = LeastSquares(likes, dislikes)\n",
    "        t.append(estimates)\n",
    "\n",
    "    inters, slopes = zip(*t)\n",
    "    return inters, slopes"
   ]
  },
  {
   "cell_type": "code",
   "execution_count": 116,
   "metadata": {},
   "outputs": [],
   "source": [
    "inters, slopes = SamplingDistributions(youtubeUS, iters=1001)"
   ]
  },
  {
   "cell_type": "code",
   "execution_count": 117,
   "metadata": {},
   "outputs": [],
   "source": [
    "def Summarize(estimates, actual=None):\n",
    "    mean = Mean(estimates)\n",
    "    stderr = Std(estimates, mu=actual)\n",
    "    cdf = thinkstats2.Cdf(estimates)\n",
    "    ci = cdf.ConfidenceInterval(90)\n",
    "    print('mean, SE, CI', mean, stderr, ci)"
   ]
  },
  {
   "cell_type": "code",
   "execution_count": 118,
   "metadata": {},
   "outputs": [
    {
     "name": "stdout",
     "output_type": "stream",
     "text": [
      "mean, SE, CI -503.0840886764376 265.1359472308858 (-963.1380862534365, -99.6770174961107)\n",
      "mean, SE, CI 0.05675732620176603 0.005058012713614648 (0.048867278840467994, 0.06539756582767957)\n"
     ]
    },
    {
     "data": {
      "text/plain": [
       "(None, None)"
      ]
     },
     "execution_count": 118,
     "metadata": {},
     "output_type": "execute_result"
    }
   ],
   "source": [
    "Summarize(inters), Summarize(slopes)"
   ]
  },
  {
   "cell_type": "markdown",
   "metadata": {},
   "source": [
    "The sampling distribution function of thinkstats shows how much the estimates would vary if we ran the experiment over and over. And we can also generate mean, Standard Error and Confindence Interval for this sampling distribution."
   ]
  },
  {
   "cell_type": "markdown",
   "metadata": {},
   "source": [
    "### Visualizing uncertainty"
   ]
  },
  {
   "cell_type": "code",
   "execution_count": 119,
   "metadata": {},
   "outputs": [
    {
     "data": {
      "image/png": "[encoded data removed]",
      "text/plain": [
       "<Figure size 432x288 with 1 Axes>"
      ]
     },
     "metadata": {
      "needs_background": "light"
     },
     "output_type": "display_data"
    }
   ],
   "source": [
    "for slope, inter in zip(slopes, inters):\n",
    "    fxs, fys = FitLine(likes_means, inter, slope)\n",
    "    thinkplot.Plot(fxs, fys, color='gray', alpha=0.01)\n",
    "    \n",
    "thinkplot.Config(xlabel=\"Likes\",\n",
    "                 ylabel='Dislikes')"
   ]
  },
  {
   "cell_type": "code",
   "execution_count": 120,
   "metadata": {},
   "outputs": [],
   "source": [
    "def PlotConfidenceIntervals(xs, inters, slopes, percent=90, **options):\n",
    "    fys_seq = []\n",
    "    for inter, slope in zip(inters, slopes):\n",
    "        fxs, fys = FitLine(xs, inter, slope)\n",
    "        fys_seq.append(fys)\n",
    "\n",
    "    p = (100 - percent) / 2\n",
    "    percents = p, 100 - p\n",
    "    low, high = thinkstats2.PercentileRows(fys_seq, percents)\n",
    "    thinkplot.FillBetween(fxs, low, high, **options)"
   ]
  },
  {
   "cell_type": "code",
   "execution_count": 125,
   "metadata": {},
   "outputs": [
    {
     "data": {
      "image/png": "[encoded data removed]",
      "text/plain": [
       "<Figure size 432x288 with 1 Axes>"
      ]
     },
     "metadata": {
      "needs_background": "light"
     },
     "output_type": "display_data"
    }
   ],
   "source": [
    "PlotConfidenceIntervals(likes_means, inters, slopes, percent=90, \n",
    "                        color='red', alpha=0.3, label='90% CI')\n",
    "PlotConfidenceIntervals(likes_means, inters, slopes, percent=50,\n",
    "                        color='blue', alpha=0.5, label='50% CI')\n",
    "\n",
    "thinkplot.Config(xlabel=\"Likes\",\n",
    "                 ylabel='Dislikes')"
   ]
  },
  {
   "cell_type": "markdown",
   "metadata": {},
   "source": [
    "In this section we just simply plotted the confidence intervals gained from interception and slopes"
   ]
  },
  {
   "cell_type": "markdown",
   "metadata": {},
   "source": [
    "### Coefficient of determination"
   ]
  },
  {
   "cell_type": "code",
   "execution_count": 126,
   "metadata": {},
   "outputs": [],
   "source": [
    "def CoefDetermination(ys, res):\n",
    "    return 1 - Var(res) / Var(ys)"
   ]
  },
  {
   "cell_type": "code",
   "execution_count": 128,
   "metadata": {},
   "outputs": [
    {
     "data": {
      "text/plain": [
       "0.1999757328841716"
      ]
     },
     "execution_count": 128,
     "metadata": {},
     "output_type": "execute_result"
    }
   ],
   "source": [
    "inter, slope = LeastSquares(youtubeUS.likes, youtubeUS.dislikes)\n",
    "res = Residuals(youtubeUS.likes, youtubeUS.dislikes, inter, slope)\n",
    "r2 = CoefDetermination(youtubeUS.dislikes, res)\n",
    "r2"
   ]
  },
  {
   "cell_type": "code",
   "execution_count": 129,
   "metadata": {},
   "outputs": [
    {
     "name": "stdout",
     "output_type": "stream",
     "text": [
      "rho 0.4471864632166004\n",
      "R 0.44718646321660005\n"
     ]
    }
   ],
   "source": [
    "print('rho', thinkstats2.Corr(youtubeUS.likes, youtubeUS.dislikes))\n",
    "print('R', np.sqrt(r2))   "
   ]
  },
  {
   "cell_type": "code",
   "execution_count": 130,
   "metadata": {},
   "outputs": [
    {
     "name": "stdout",
     "output_type": "stream",
     "text": [
      "Std(ys) 29029.351481117723\n",
      "Std(res) 25965.03510316771\n"
     ]
    }
   ],
   "source": [
    "print('Std(ys)', Std(youtubeUS.dislikes))\n",
    "print('Std(res)', Std(res))"
   ]
  },
  {
   "cell_type": "markdown",
   "metadata": {},
   "source": [
    "### Hypothesis testing with slopes"
   ]
  },
  {
   "cell_type": "code",
   "execution_count": 131,
   "metadata": {},
   "outputs": [],
   "source": [
    "class SlopeTest(thinkstats2.HypothesisTest):\n",
    "\n",
    "    def TestStatistic(self, data):\n",
    "        ages, weights = data\n",
    "        _, slope = thinkstats2.LeastSquares(ages, weights)\n",
    "        return slope\n",
    "\n",
    "    def MakeModel(self):\n",
    "        _, weights = self.data\n",
    "        self.ybar = weights.mean()\n",
    "        self.res = weights - self.ybar\n",
    "\n",
    "    def RunModel(self):\n",
    "        ages, _ = self.data\n",
    "        weights = self.ybar + np.random.permutation(self.res)\n",
    "        return ages, weights"
   ]
  },
  {
   "cell_type": "code",
   "execution_count": 132,
   "metadata": {},
   "outputs": [
    {
     "data": {
      "text/plain": [
       "0.0"
      ]
     },
     "execution_count": 132,
     "metadata": {},
     "output_type": "execute_result"
    }
   ],
   "source": [
    "ht = SlopeTest((youtubeUS.likes, youtubeUS.dislikes))\n",
    "pvalue = ht.PValue()\n",
    "pvalue"
   ]
  },
  {
   "cell_type": "code",
   "execution_count": 133,
   "metadata": {},
   "outputs": [
    {
     "data": {
      "text/plain": [
       "(0.05671700787527557, 0.004417453955343484)"
      ]
     },
     "execution_count": 133,
     "metadata": {},
     "output_type": "execute_result"
    }
   ],
   "source": [
    "ht.actual, ht.MaxTestStat()"
   ]
  },
  {
   "cell_type": "code",
   "execution_count": 134,
   "metadata": {},
   "outputs": [
    {
     "data": {
      "image/png": "[encoded data removed]",
      "text/plain": [
       "<Figure size 432x288 with 1 Axes>"
      ]
     },
     "metadata": {
      "needs_background": "light"
     },
     "output_type": "display_data"
    }
   ],
   "source": [
    "sampling_cdf = thinkstats2.Cdf(slopes)\n",
    "\n",
    "thinkplot.PrePlot(2)\n",
    "thinkplot.Plot([0, 0], [0, 1], color='0.8')\n",
    "ht.PlotCdf(label='null hypothesis')\n",
    "\n",
    "thinkplot.Cdf(sampling_cdf, label='sampling distribution')\n",
    "\n",
    "thinkplot.Config(xlabel='slope (dislikes / likes)',\n",
    "                   ylabel='CDF',\n",
    "                   legend=True, loc='upper left')"
   ]
  },
  {
   "cell_type": "code",
   "execution_count": 135,
   "metadata": {},
   "outputs": [
    {
     "data": {
      "text/plain": [
       "0"
      ]
     },
     "execution_count": 135,
     "metadata": {},
     "output_type": "execute_result"
    }
   ],
   "source": [
    "pvalue = sampling_cdf[0]\n",
    "pvalue"
   ]
  },
  {
   "cell_type": "markdown",
   "metadata": {},
   "source": [
    "### Resampling with weights"
   ]
  },
  {
   "cell_type": "code",
   "execution_count": 137,
   "metadata": {},
   "outputs": [],
   "source": [
    "def ResampleRowsWeighted(df, column='dislikes'):\n",
    "    weights = df[column]\n",
    "    cdf = thinkstats2.Cdf(dict(weights))\n",
    "    indices = cdf.Sample(len(weights))\n",
    "    sample = df.loc[indices]\n",
    "    return sample"
   ]
  },
  {
   "cell_type": "code",
   "execution_count": 138,
   "metadata": {},
   "outputs": [
    {
     "name": "stdout",
     "output_type": "stream",
     "text": [
      "mean, SE, CI 231090.140496227 2306.2698300159873 (226989.96820435175, 234493.93526093432)\n"
     ]
    }
   ],
   "source": [
    "iters = 100\n",
    "estimates = [ResampleRowsWeighted(youtubeUS).dislikes.mean()\n",
    "             for _ in range(iters)]\n",
    "Summarize(estimates)"
   ]
  },
  {
   "cell_type": "markdown",
   "metadata": {},
   "source": [
    "## Multiple regression"
   ]
  },
  {
   "cell_type": "code",
   "execution_count": 140,
   "metadata": {},
   "outputs": [
    {
     "data": {
      "text/html": [
       "<table class=\"simpletable\">\n",
       "<caption>OLS Regression Results</caption>\n",
       "<tr>\n",
       "  <th>Dep. Variable:</th>        <td>dislikes</td>     <th>  R-squared:         </th>  <td>   0.200</td>  \n",
       "</tr>\n",
       "<tr>\n",
       "  <th>Model:</th>                   <td>OLS</td>       <th>  Adj. R-squared:    </th>  <td>   0.200</td>  \n",
       "</tr>\n",
       "<tr>\n",
       "  <th>Method:</th>             <td>Least Squares</td>  <th>  F-statistic:       </th>  <td>1.024e+04</td> \n",
       "</tr>\n",
       "<tr>\n",
       "  <th>Date:</th>             <td>Thu, 07 Nov 2019</td> <th>  Prob (F-statistic):</th>   <td>  0.00</td>   \n",
       "</tr>\n",
       "<tr>\n",
       "  <th>Time:</th>                 <td>11:17:30</td>     <th>  Log-Likelihood:    </th> <td>-4.7433e+05</td>\n",
       "</tr>\n",
       "<tr>\n",
       "  <th>No. Observations:</th>      <td> 40949</td>      <th>  AIC:               </th>  <td>9.487e+05</td> \n",
       "</tr>\n",
       "<tr>\n",
       "  <th>Df Residuals:</th>          <td> 40947</td>      <th>  BIC:               </th>  <td>9.487e+05</td> \n",
       "</tr>\n",
       "<tr>\n",
       "  <th>Df Model:</th>              <td>     1</td>      <th>                     </th>      <td> </td>     \n",
       "</tr>\n",
       "<tr>\n",
       "  <th>Covariance Type:</th>      <td>nonrobust</td>    <th>                     </th>      <td> </td>     \n",
       "</tr>\n",
       "</table>\n",
       "<table class=\"simpletable\">\n",
       "<tr>\n",
       "      <td></td>         <th>coef</th>     <th>std err</th>      <th>t</th>      <th>P>|t|</th>  <th>[0.025</th>    <th>0.975]</th>  \n",
       "</tr>\n",
       "<tr>\n",
       "  <th>Intercept</th> <td> -500.7843</td> <td>  134.901</td> <td>   -3.712</td> <td> 0.000</td> <td> -765.193</td> <td> -236.376</td>\n",
       "</tr>\n",
       "<tr>\n",
       "  <th>likes</th>     <td>    0.0567</td> <td>    0.001</td> <td>  101.169</td> <td> 0.000</td> <td>    0.056</td> <td>    0.058</td>\n",
       "</tr>\n",
       "</table>\n",
       "<table class=\"simpletable\">\n",
       "<tr>\n",
       "  <th>Omnibus:</th>       <td>121721.481</td> <th>  Durbin-Watson:     </th>    <td>   1.995</td>   \n",
       "</tr>\n",
       "<tr>\n",
       "  <th>Prob(Omnibus):</th>   <td> 0.000</td>   <th>  Jarque-Bera (JB):  </th> <td>8674323462.162</td>\n",
       "</tr>\n",
       "<tr>\n",
       "  <th>Skew:</th>            <td>43.006</td>   <th>  Prob(JB):          </th>    <td>    0.00</td>   \n",
       "</tr>\n",
       "<tr>\n",
       "  <th>Kurtosis:</th>       <td>2256.126</td>  <th>  Cond. No.          </th>    <td>2.53e+05</td>   \n",
       "</tr>\n",
       "</table><br/><br/>Warnings:<br/>[1] Standard Errors assume that the covariance matrix of the errors is correctly specified.<br/>[2] The condition number is large, 2.53e+05. This might indicate that there are<br/>strong multicollinearity or other numerical problems."
      ],
      "text/plain": [
       "<class 'statsmodels.iolib.summary.Summary'>\n",
       "\"\"\"\n",
       "                            OLS Regression Results                            \n",
       "==============================================================================\n",
       "Dep. Variable:               dislikes   R-squared:                       0.200\n",
       "Model:                            OLS   Adj. R-squared:                  0.200\n",
       "Method:                 Least Squares   F-statistic:                 1.024e+04\n",
       "Date:                Thu, 07 Nov 2019   Prob (F-statistic):               0.00\n",
       "Time:                        11:17:30   Log-Likelihood:            -4.7433e+05\n",
       "No. Observations:               40949   AIC:                         9.487e+05\n",
       "Df Residuals:                   40947   BIC:                         9.487e+05\n",
       "Df Model:                           1                                         \n",
       "Covariance Type:            nonrobust                                         \n",
       "==============================================================================\n",
       "                 coef    std err          t      P>|t|      [0.025      0.975]\n",
       "------------------------------------------------------------------------------\n",
       "Intercept   -500.7843    134.901     -3.712      0.000    -765.193    -236.376\n",
       "likes          0.0567      0.001    101.169      0.000       0.056       0.058\n",
       "==============================================================================\n",
       "Omnibus:                   121721.481   Durbin-Watson:                   1.995\n",
       "Prob(Omnibus):                  0.000   Jarque-Bera (JB):       8674323462.162\n",
       "Skew:                          43.006   Prob(JB):                         0.00\n",
       "Kurtosis:                    2256.126   Cond. No.                     2.53e+05\n",
       "==============================================================================\n",
       "\n",
       "Warnings:\n",
       "[1] Standard Errors assume that the covariance matrix of the errors is correctly specified.\n",
       "[2] The condition number is large, 2.53e+05. This might indicate that there are\n",
       "strong multicollinearity or other numerical problems.\n",
       "\"\"\""
      ]
     },
     "execution_count": 140,
     "metadata": {},
     "output_type": "execute_result"
    }
   ],
   "source": [
    "formula = 'dislikes ~ likes'\n",
    "model = smf.ols(formula, data=youtubeUS)\n",
    "results = model.fit()\n",
    "results.summary()"
   ]
  },
  {
   "cell_type": "markdown",
   "metadata": {},
   "source": [
    "I tested the previously done lab with statsmodel, and it was similar"
   ]
  },
  {
   "cell_type": "code",
   "execution_count": 141,
   "metadata": {},
   "outputs": [
    {
     "data": {
      "text/plain": [
       "(-500.78425795106256, 0.05671700787527547)"
      ]
     },
     "execution_count": 141,
     "metadata": {},
     "output_type": "execute_result"
    }
   ],
   "source": [
    "inter = results.params['Intercept']\n",
    "slope = results.params['likes']\n",
    "inter, slope"
   ]
  },
  {
   "cell_type": "code",
   "execution_count": 143,
   "metadata": {},
   "outputs": [
    {
     "data": {
      "text/plain": [
       "0.0"
      ]
     },
     "execution_count": 143,
     "metadata": {},
     "output_type": "execute_result"
    }
   ],
   "source": [
    "results.pvalues.likes"
   ]
  },
  {
   "cell_type": "code",
   "execution_count": 144,
   "metadata": {},
   "outputs": [
    {
     "data": {
      "text/plain": [
       "0.1999757328841717"
      ]
     },
     "execution_count": 144,
     "metadata": {},
     "output_type": "execute_result"
    }
   ],
   "source": [
    "results.rsquared"
   ]
  },
  {
   "cell_type": "code",
   "execution_count": 146,
   "metadata": {},
   "outputs": [
    {
     "data": {
      "text/plain": [
       "0    22\n",
       "1    24\n",
       "2    23\n",
       "3    24\n",
       "4    24\n",
       "Name: category_id, dtype: int64"
      ]
     },
     "execution_count": 146,
     "metadata": {},
     "output_type": "execute_result"
    }
   ],
   "source": [
    "youtubeUS.category_id[:5]"
   ]
  },
  {
   "cell_type": "code",
   "execution_count": 147,
   "metadata": {},
   "outputs": [
    {
     "data": {
      "text/html": [
       "<table class=\"simpletable\">\n",
       "<caption>OLS Regression Results</caption>\n",
       "<tr>\n",
       "  <th>Dep. Variable:</th>        <td>dislikes</td>     <th>  R-squared:         </th>  <td>   0.012</td>  \n",
       "</tr>\n",
       "<tr>\n",
       "  <th>Model:</th>                   <td>OLS</td>       <th>  Adj. R-squared:    </th>  <td>   0.012</td>  \n",
       "</tr>\n",
       "<tr>\n",
       "  <th>Method:</th>             <td>Least Squares</td>  <th>  F-statistic:       </th>  <td>   33.76</td>  \n",
       "</tr>\n",
       "<tr>\n",
       "  <th>Date:</th>             <td>Thu, 07 Nov 2019</td> <th>  Prob (F-statistic):</th>  <td>1.11e-97</td>  \n",
       "</tr>\n",
       "<tr>\n",
       "  <th>Time:</th>                 <td>11:31:23</td>     <th>  Log-Likelihood:    </th> <td>-4.7865e+05</td>\n",
       "</tr>\n",
       "<tr>\n",
       "  <th>No. Observations:</th>      <td> 40949</td>      <th>  AIC:               </th>  <td>9.573e+05</td> \n",
       "</tr>\n",
       "<tr>\n",
       "  <th>Df Residuals:</th>          <td> 40933</td>      <th>  BIC:               </th>  <td>9.575e+05</td> \n",
       "</tr>\n",
       "<tr>\n",
       "  <th>Df Model:</th>              <td>    15</td>      <th>                     </th>      <td> </td>     \n",
       "</tr>\n",
       "<tr>\n",
       "  <th>Covariance Type:</th>      <td>nonrobust</td>    <th>                     </th>      <td> </td>     \n",
       "</tr>\n",
       "</table>\n",
       "<table class=\"simpletable\">\n",
       "<tr>\n",
       "            <td></td>              <th>coef</th>     <th>std err</th>      <th>t</th>      <th>P>|t|</th>  <th>[0.025</th>    <th>0.975]</th>  \n",
       "</tr>\n",
       "<tr>\n",
       "  <th>Intercept</th>            <td> 2590.6814</td> <td>  595.910</td> <td>    4.347</td> <td> 0.000</td> <td> 1422.684</td> <td> 3758.679</td>\n",
       "</tr>\n",
       "<tr>\n",
       "  <th>C(category_id)[T.2]</th>  <td>-1957.8429</td> <td> 1588.609</td> <td>   -1.232</td> <td> 0.218</td> <td>-5071.552</td> <td> 1155.866</td>\n",
       "</tr>\n",
       "<tr>\n",
       "  <th>C(category_id)[T.10]</th> <td> 5317.0763</td> <td>  695.540</td> <td>    7.645</td> <td> 0.000</td> <td> 3953.803</td> <td> 6680.350</td>\n",
       "</tr>\n",
       "<tr>\n",
       "  <th>C(category_id)[T.15]</th> <td>-2017.4434</td> <td> 1122.609</td> <td>   -1.797</td> <td> 0.072</td> <td>-4217.782</td> <td>  182.896</td>\n",
       "</tr>\n",
       "<tr>\n",
       "  <th>C(category_id)[T.17]</th> <td> -229.3424</td> <td>  859.157</td> <td>   -0.267</td> <td> 0.790</td> <td>-1913.308</td> <td> 1454.624</td>\n",
       "</tr>\n",
       "<tr>\n",
       "  <th>C(category_id)[T.19]</th> <td>-1743.8481</td> <td> 1557.748</td> <td>   -1.119</td> <td> 0.263</td> <td>-4797.069</td> <td> 1309.373</td>\n",
       "</tr>\n",
       "<tr>\n",
       "  <th>C(category_id)[T.20]</th> <td> 8651.0150</td> <td> 1172.333</td> <td>    7.379</td> <td> 0.000</td> <td> 6353.217</td> <td> 1.09e+04</td>\n",
       "</tr>\n",
       "<tr>\n",
       "  <th>C(category_id)[T.22]</th> <td>  583.1195</td> <td>  783.918</td> <td>    0.744</td> <td> 0.457</td> <td> -953.376</td> <td> 2119.615</td>\n",
       "</tr>\n",
       "<tr>\n",
       "  <th>C(category_id)[T.23]</th> <td> -499.1596</td> <td>  772.005</td> <td>   -0.647</td> <td> 0.518</td> <td>-2012.306</td> <td> 1013.987</td>\n",
       "</tr>\n",
       "<tr>\n",
       "  <th>C(category_id)[T.24]</th> <td> 1723.6163</td> <td>  662.332</td> <td>    2.602</td> <td> 0.009</td> <td>  425.432</td> <td> 3021.801</td>\n",
       "</tr>\n",
       "<tr>\n",
       "  <th>C(category_id)[T.25]</th> <td> -909.9219</td> <td>  830.628</td> <td>   -1.095</td> <td> 0.273</td> <td>-2537.971</td> <td>  718.127</td>\n",
       "</tr>\n",
       "<tr>\n",
       "  <th>C(category_id)[T.26]</th> <td>-1270.3971</td> <td>  745.628</td> <td>   -1.704</td> <td> 0.088</td> <td>-2731.844</td> <td>  191.050</td>\n",
       "</tr>\n",
       "<tr>\n",
       "  <th>C(category_id)[T.27]</th> <td>-1774.2732</td> <td>  926.265</td> <td>   -1.916</td> <td> 0.055</td> <td>-3589.772</td> <td>   41.226</td>\n",
       "</tr>\n",
       "<tr>\n",
       "  <th>C(category_id)[T.28]</th> <td> -696.3033</td> <td>  837.816</td> <td>   -0.831</td> <td> 0.406</td> <td>-2338.441</td> <td>  945.835</td>\n",
       "</tr>\n",
       "<tr>\n",
       "  <th>C(category_id)[T.29]</th> <td> 5.549e+04</td> <td> 3868.388</td> <td>   14.343</td> <td> 0.000</td> <td> 4.79e+04</td> <td> 6.31e+04</td>\n",
       "</tr>\n",
       "<tr>\n",
       "  <th>C(category_id)[T.43]</th> <td>-2160.7165</td> <td> 3868.388</td> <td>   -0.559</td> <td> 0.576</td> <td>-9742.842</td> <td> 5421.409</td>\n",
       "</tr>\n",
       "</table>\n",
       "<table class=\"simpletable\">\n",
       "<tr>\n",
       "  <th>Omnibus:</th>       <td>119152.745</td> <th>  Durbin-Watson:     </th>    <td>   1.995</td>   \n",
       "</tr>\n",
       "<tr>\n",
       "  <th>Prob(Omnibus):</th>   <td> 0.000</td>   <th>  Jarque-Bera (JB):  </th> <td>7035103099.317</td>\n",
       "</tr>\n",
       "<tr>\n",
       "  <th>Skew:</th>            <td>40.607</td>   <th>  Prob(JB):          </th>    <td>    0.00</td>   \n",
       "</tr>\n",
       "<tr>\n",
       "  <th>Kurtosis:</th>       <td>2031.951</td>  <th>  Cond. No.          </th>    <td>    29.5</td>   \n",
       "</tr>\n",
       "</table><br/><br/>Warnings:<br/>[1] Standard Errors assume that the covariance matrix of the errors is correctly specified."
      ],
      "text/plain": [
       "<class 'statsmodels.iolib.summary.Summary'>\n",
       "\"\"\"\n",
       "                            OLS Regression Results                            \n",
       "==============================================================================\n",
       "Dep. Variable:               dislikes   R-squared:                       0.012\n",
       "Model:                            OLS   Adj. R-squared:                  0.012\n",
       "Method:                 Least Squares   F-statistic:                     33.76\n",
       "Date:                Thu, 07 Nov 2019   Prob (F-statistic):           1.11e-97\n",
       "Time:                        11:31:23   Log-Likelihood:            -4.7865e+05\n",
       "No. Observations:               40949   AIC:                         9.573e+05\n",
       "Df Residuals:                   40933   BIC:                         9.575e+05\n",
       "Df Model:                          15                                         \n",
       "Covariance Type:            nonrobust                                         \n",
       "========================================================================================\n",
       "                           coef    std err          t      P>|t|      [0.025      0.975]\n",
       "----------------------------------------------------------------------------------------\n",
       "Intercept             2590.6814    595.910      4.347      0.000    1422.684    3758.679\n",
       "C(category_id)[T.2]  -1957.8429   1588.609     -1.232      0.218   -5071.552    1155.866\n",
       "C(category_id)[T.10]  5317.0763    695.540      7.645      0.000    3953.803    6680.350\n",
       "C(category_id)[T.15] -2017.4434   1122.609     -1.797      0.072   -4217.782     182.896\n",
       "C(category_id)[T.17]  -229.3424    859.157     -0.267      0.790   -1913.308    1454.624\n",
       "C(category_id)[T.19] -1743.8481   1557.748     -1.119      0.263   -4797.069    1309.373\n",
       "C(category_id)[T.20]  8651.0150   1172.333      7.379      0.000    6353.217    1.09e+04\n",
       "C(category_id)[T.22]   583.1195    783.918      0.744      0.457    -953.376    2119.615\n",
       "C(category_id)[T.23]  -499.1596    772.005     -0.647      0.518   -2012.306    1013.987\n",
       "C(category_id)[T.24]  1723.6163    662.332      2.602      0.009     425.432    3021.801\n",
       "C(category_id)[T.25]  -909.9219    830.628     -1.095      0.273   -2537.971     718.127\n",
       "C(category_id)[T.26] -1270.3971    745.628     -1.704      0.088   -2731.844     191.050\n",
       "C(category_id)[T.27] -1774.2732    926.265     -1.916      0.055   -3589.772      41.226\n",
       "C(category_id)[T.28]  -696.3033    837.816     -0.831      0.406   -2338.441     945.835\n",
       "C(category_id)[T.29]  5.549e+04   3868.388     14.343      0.000    4.79e+04    6.31e+04\n",
       "C(category_id)[T.43] -2160.7165   3868.388     -0.559      0.576   -9742.842    5421.409\n",
       "==============================================================================\n",
       "Omnibus:                   119152.745   Durbin-Watson:                   1.995\n",
       "Prob(Omnibus):                  0.000   Jarque-Bera (JB):       7035103099.317\n",
       "Skew:                          40.607   Prob(JB):                         0.00\n",
       "Kurtosis:                    2031.951   Cond. No.                         29.5\n",
       "==============================================================================\n",
       "\n",
       "Warnings:\n",
       "[1] Standard Errors assume that the covariance matrix of the errors is correctly specified.\n",
       "\"\"\""
      ]
     },
     "execution_count": 147,
     "metadata": {},
     "output_type": "execute_result"
    }
   ],
   "source": [
    "formula = 'dislikes ~ C(category_id)'\n",
    "results = smf.ols(formula, data=youtubeUS).fit()\n",
    "results.summary()"
   ]
  },
  {
   "cell_type": "code",
   "execution_count": 148,
   "metadata": {},
   "outputs": [
    {
     "data": {
      "text/html": [
       "<table class=\"simpletable\">\n",
       "<caption>OLS Regression Results</caption>\n",
       "<tr>\n",
       "  <th>Dep. Variable:</th>        <td>dislikes</td>     <th>  R-squared:         </th>  <td>   0.209</td>  \n",
       "</tr>\n",
       "<tr>\n",
       "  <th>Model:</th>                   <td>OLS</td>       <th>  Adj. R-squared:    </th>  <td>   0.209</td>  \n",
       "</tr>\n",
       "<tr>\n",
       "  <th>Method:</th>             <td>Least Squares</td>  <th>  F-statistic:       </th>  <td>   675.5</td>  \n",
       "</tr>\n",
       "<tr>\n",
       "  <th>Date:</th>             <td>Thu, 07 Nov 2019</td> <th>  Prob (F-statistic):</th>   <td>  0.00</td>   \n",
       "</tr>\n",
       "<tr>\n",
       "  <th>Time:</th>                 <td>11:33:55</td>     <th>  Log-Likelihood:    </th> <td>-4.7410e+05</td>\n",
       "</tr>\n",
       "<tr>\n",
       "  <th>No. Observations:</th>      <td> 40949</td>      <th>  AIC:               </th>  <td>9.482e+05</td> \n",
       "</tr>\n",
       "<tr>\n",
       "  <th>Df Residuals:</th>          <td> 40932</td>      <th>  BIC:               </th>  <td>9.484e+05</td> \n",
       "</tr>\n",
       "<tr>\n",
       "  <th>Df Model:</th>              <td>    16</td>      <th>                     </th>      <td> </td>     \n",
       "</tr>\n",
       "<tr>\n",
       "  <th>Covariance Type:</th>      <td>nonrobust</td>    <th>                     </th>      <td> </td>     \n",
       "</tr>\n",
       "</table>\n",
       "<table class=\"simpletable\">\n",
       "<tr>\n",
       "            <td></td>              <th>coef</th>     <th>std err</th>      <th>t</th>      <th>P>|t|</th>  <th>[0.025</th>    <th>0.975]</th>  \n",
       "</tr>\n",
       "<tr>\n",
       "  <th>Intercept</th>            <td>-1563.2206</td> <td>  534.888</td> <td>   -2.923</td> <td> 0.003</td> <td>-2611.613</td> <td> -514.829</td>\n",
       "</tr>\n",
       "<tr>\n",
       "  <th>C(category_id)[T.2]</th>  <td> 1547.2586</td> <td> 1422.125</td> <td>    1.088</td> <td> 0.277</td> <td>-1240.138</td> <td> 4334.655</td>\n",
       "</tr>\n",
       "<tr>\n",
       "  <th>C(category_id)[T.10]</th> <td>-3375.3637</td> <td>  628.398</td> <td>   -5.371</td> <td> 0.000</td> <td>-4607.038</td> <td>-2143.689</td>\n",
       "</tr>\n",
       "<tr>\n",
       "  <th>C(category_id)[T.15]</th> <td>  900.9234</td> <td> 1005.078</td> <td>    0.896</td> <td> 0.370</td> <td>-1069.051</td> <td> 2870.898</td>\n",
       "</tr>\n",
       "<tr>\n",
       "  <th>C(category_id)[T.17]</th> <td> 1262.5574</td> <td>  769.031</td> <td>    1.642</td> <td> 0.101</td> <td> -244.760</td> <td> 2769.875</td>\n",
       "</tr>\n",
       "<tr>\n",
       "  <th>C(category_id)[T.19]</th> <td> 1704.0942</td> <td> 1394.501</td> <td>    1.222</td> <td> 0.222</td> <td>-1029.158</td> <td> 4437.347</td>\n",
       "</tr>\n",
       "<tr>\n",
       "  <th>C(category_id)[T.20]</th> <td> 7846.2432</td> <td> 1049.191</td> <td>    7.478</td> <td> 0.000</td> <td> 5789.806</td> <td> 9902.680</td>\n",
       "</tr>\n",
       "<tr>\n",
       "  <th>C(category_id)[T.22]</th> <td> 1325.5523</td> <td>  701.593</td> <td>    1.889</td> <td> 0.059</td> <td>  -49.586</td> <td> 2700.691</td>\n",
       "</tr>\n",
       "<tr>\n",
       "  <th>C(category_id)[T.23]</th> <td>  -17.6459</td> <td>  690.910</td> <td>   -0.026</td> <td> 0.980</td> <td>-1371.845</td> <td> 1336.553</td>\n",
       "</tr>\n",
       "<tr>\n",
       "  <th>C(category_id)[T.24]</th> <td> 2753.1460</td> <td>  592.831</td> <td>    4.644</td> <td> 0.000</td> <td> 1591.184</td> <td> 3915.108</td>\n",
       "</tr>\n",
       "<tr>\n",
       "  <th>C(category_id)[T.25]</th> <td> 2815.7047</td> <td>  744.274</td> <td>    3.783</td> <td> 0.000</td> <td> 1356.911</td> <td> 4274.498</td>\n",
       "</tr>\n",
       "<tr>\n",
       "  <th>C(category_id)[T.26]</th> <td>  578.1581</td> <td>  667.539</td> <td>    0.866</td> <td> 0.386</td> <td> -730.234</td> <td> 1886.550</td>\n",
       "</tr>\n",
       "<tr>\n",
       "  <th>C(category_id)[T.27]</th> <td>  634.1602</td> <td>  829.290</td> <td>    0.765</td> <td> 0.444</td> <td> -991.266</td> <td> 2259.586</td>\n",
       "</tr>\n",
       "<tr>\n",
       "  <th>C(category_id)[T.28]</th> <td> 1440.4814</td> <td>  750.089</td> <td>    1.920</td> <td> 0.055</td> <td>  -29.710</td> <td> 2910.673</td>\n",
       "</tr>\n",
       "<tr>\n",
       "  <th>C(category_id)[T.29]</th> <td> 4.439e+04</td> <td> 3463.700</td> <td>   12.815</td> <td> 0.000</td> <td> 3.76e+04</td> <td> 5.12e+04</td>\n",
       "</tr>\n",
       "<tr>\n",
       "  <th>C(category_id)[T.43]</th> <td>  878.6179</td> <td> 3462.084</td> <td>    0.254</td> <td> 0.800</td> <td>-5907.142</td> <td> 7664.378</td>\n",
       "</tr>\n",
       "<tr>\n",
       "  <th>likes</th>                <td>    0.0587</td> <td>    0.001</td> <td>  100.878</td> <td> 0.000</td> <td>    0.058</td> <td>    0.060</td>\n",
       "</tr>\n",
       "</table>\n",
       "<table class=\"simpletable\">\n",
       "<tr>\n",
       "  <th>Omnibus:</th>       <td>121736.342</td> <th>  Durbin-Watson:     </th>    <td>   1.997</td>   \n",
       "</tr>\n",
       "<tr>\n",
       "  <th>Prob(Omnibus):</th>   <td> 0.000</td>   <th>  Jarque-Bera (JB):  </th> <td>8758830118.080</td>\n",
       "</tr>\n",
       "<tr>\n",
       "  <th>Skew:</th>            <td>43.014</td>   <th>  Prob(JB):          </th>    <td>    0.00</td>   \n",
       "</tr>\n",
       "<tr>\n",
       "  <th>Kurtosis:</th>       <td>2267.090</td>  <th>  Cond. No.          </th>    <td>6.68e+06</td>   \n",
       "</tr>\n",
       "</table><br/><br/>Warnings:<br/>[1] Standard Errors assume that the covariance matrix of the errors is correctly specified.<br/>[2] The condition number is large, 6.68e+06. This might indicate that there are<br/>strong multicollinearity or other numerical problems."
      ],
      "text/plain": [
       "<class 'statsmodels.iolib.summary.Summary'>\n",
       "\"\"\"\n",
       "                            OLS Regression Results                            \n",
       "==============================================================================\n",
       "Dep. Variable:               dislikes   R-squared:                       0.209\n",
       "Model:                            OLS   Adj. R-squared:                  0.209\n",
       "Method:                 Least Squares   F-statistic:                     675.5\n",
       "Date:                Thu, 07 Nov 2019   Prob (F-statistic):               0.00\n",
       "Time:                        11:33:55   Log-Likelihood:            -4.7410e+05\n",
       "No. Observations:               40949   AIC:                         9.482e+05\n",
       "Df Residuals:                   40932   BIC:                         9.484e+05\n",
       "Df Model:                          16                                         \n",
       "Covariance Type:            nonrobust                                         \n",
       "========================================================================================\n",
       "                           coef    std err          t      P>|t|      [0.025      0.975]\n",
       "----------------------------------------------------------------------------------------\n",
       "Intercept            -1563.2206    534.888     -2.923      0.003   -2611.613    -514.829\n",
       "C(category_id)[T.2]   1547.2586   1422.125      1.088      0.277   -1240.138    4334.655\n",
       "C(category_id)[T.10] -3375.3637    628.398     -5.371      0.000   -4607.038   -2143.689\n",
       "C(category_id)[T.15]   900.9234   1005.078      0.896      0.370   -1069.051    2870.898\n",
       "C(category_id)[T.17]  1262.5574    769.031      1.642      0.101    -244.760    2769.875\n",
       "C(category_id)[T.19]  1704.0942   1394.501      1.222      0.222   -1029.158    4437.347\n",
       "C(category_id)[T.20]  7846.2432   1049.191      7.478      0.000    5789.806    9902.680\n",
       "C(category_id)[T.22]  1325.5523    701.593      1.889      0.059     -49.586    2700.691\n",
       "C(category_id)[T.23]   -17.6459    690.910     -0.026      0.980   -1371.845    1336.553\n",
       "C(category_id)[T.24]  2753.1460    592.831      4.644      0.000    1591.184    3915.108\n",
       "C(category_id)[T.25]  2815.7047    744.274      3.783      0.000    1356.911    4274.498\n",
       "C(category_id)[T.26]   578.1581    667.539      0.866      0.386    -730.234    1886.550\n",
       "C(category_id)[T.27]   634.1602    829.290      0.765      0.444    -991.266    2259.586\n",
       "C(category_id)[T.28]  1440.4814    750.089      1.920      0.055     -29.710    2910.673\n",
       "C(category_id)[T.29]  4.439e+04   3463.700     12.815      0.000    3.76e+04    5.12e+04\n",
       "C(category_id)[T.43]   878.6179   3462.084      0.254      0.800   -5907.142    7664.378\n",
       "likes                    0.0587      0.001    100.878      0.000       0.058       0.060\n",
       "==============================================================================\n",
       "Omnibus:                   121736.342   Durbin-Watson:                   1.997\n",
       "Prob(Omnibus):                  0.000   Jarque-Bera (JB):       8758830118.080\n",
       "Skew:                          43.014   Prob(JB):                         0.00\n",
       "Kurtosis:                    2267.090   Cond. No.                     6.68e+06\n",
       "==============================================================================\n",
       "\n",
       "Warnings:\n",
       "[1] Standard Errors assume that the covariance matrix of the errors is correctly specified.\n",
       "[2] The condition number is large, 6.68e+06. This might indicate that there are\n",
       "strong multicollinearity or other numerical problems.\n",
       "\"\"\""
      ]
     },
     "execution_count": 148,
     "metadata": {},
     "output_type": "execute_result"
    }
   ],
   "source": [
    "formula = 'dislikes ~ C(category_id) + likes'\n",
    "results = smf.ols(formula, data=youtubeUS).fit()\n",
    "results.summary()"
   ]
  },
  {
   "cell_type": "markdown",
   "metadata": {},
   "source": [
    "In multiple linear regression, I used one categorical parameter - category of video, and the ordinary least squares returned the statistical result stating that not all of category parameter types are applicable to the multiple regression regarding to the column above 'P>t'"
   ]
  }
 ],
 "metadata": {
  "kernelspec": {
   "display_name": "Python 3",
   "language": "python",
   "name": "python3"
  },
  "language_info": {
   "codemirror_mode": {
    "name": "ipython",
    "version": 3
   },
   "file_extension": ".py",
   "mimetype": "text/x-python",
   "name": "python",
   "nbconvert_exporter": "python",
   "pygments_lexer": "ipython3",
   "version": "3.7.3"
  }
 },
 "nbformat": 4,
 "nbformat_minor": 2
}
